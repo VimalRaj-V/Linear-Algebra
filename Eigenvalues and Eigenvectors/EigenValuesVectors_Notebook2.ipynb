{
 "cells": [
  {
   "cell_type": "markdown",
   "id": "eb4bba7b",
   "metadata": {},
   "source": [
    "This program aims to prove that the given eigenvectors are linearly independent if the eigenvalues are distinct."
   ]
  },
  {
   "cell_type": "code",
   "execution_count": 25,
   "id": "6bbcd73a",
   "metadata": {},
   "outputs": [],
   "source": [
    "import numpy as np\n",
    "import sympy as sy"
   ]
  },
  {
   "cell_type": "code",
   "execution_count": 26,
   "id": "26c0096c",
   "metadata": {},
   "outputs": [],
   "source": [
    "def unique_eigenValue(A):\n",
    "    \"\"\"\n",
    "    Determines all of the eigen values of the given matix is unique or not\n",
    "    \"\"\"\n",
    "    eig_val,eig_vec = np.linalg.eig(A)\n",
    "    l = []\n",
    "    for i in eig_val:\n",
    "        l.append(round(i, 2))\n",
    "        \n",
    "    if (len(set(l)) == len(eig_val)):   # Set fn helps us to remove the duplicate values\n",
    "        return (True)\n",
    "    else:\n",
    "        return(False)"
   ]
  },
  {
   "cell_type": "code",
   "execution_count": 27,
   "id": "45f69728",
   "metadata": {},
   "outputs": [],
   "source": [
    "def linear_independence(A):\n",
    "    \"\"\"\n",
    "    Checks whether the given matrix is linearly independent or not using Row Reduces Echelon Form\n",
    "    \"\"\"\n",
    "    M = sy.Matrix(A)\n",
    "\n",
    "    RREF = np.array(M.rref()[0])    # Finds the Row Reduced Echelon Form\n",
    "    dim = len(RREF)\n",
    "    rank = 0\n",
    "    \n",
    "    # Checks the no of non-zero rows\n",
    "    for i in range(dim):\n",
    "        for j in RREF[i]:\n",
    "            if j == 1:\n",
    "                rank+= 1\n",
    "                break\n",
    "                \n",
    "    if (dim == rank):\n",
    "        return(True)\n",
    "    else:\n",
    "        return(False)"
   ]
  },
  {
   "cell_type": "code",
   "execution_count": 28,
   "id": "21f95e38",
   "metadata": {},
   "outputs": [],
   "source": [
    "def distinctEigenValues(M):\n",
    "    \"\"\"\n",
    "    Determines eigenvectors are linearly independent and has distinct eigen values or not\n",
    "    \"\"\"\n",
    "    if (linear_independence(M) and unique_eigenValue(M)):\n",
    "        print(\"The eigen values are distinct and the corresponding eigen vectors are linearly independent\")\n",
    "    elif (linear_independence(M)):\n",
    "        print(\"The eigen values are not distinct but the corresponding eigen vectors are linearly independent\")\n",
    "    else:\n",
    "        print(\"The eigen values are not distinct and the corresponding eigen vectors are linearly dependent\")"
   ]
  },
  {
   "cell_type": "code",
   "execution_count": 29,
   "id": "f2856562",
   "metadata": {},
   "outputs": [
    {
     "name": "stdout",
     "output_type": "stream",
     "text": [
      "The eigen values are distinct and the corresponding eigen vectors are linearly independent\n"
     ]
    }
   ],
   "source": [
    "A = np.array([[5, 2, 0],\n",
    "            [2, 5, 0],\n",
    "            [-3, 4, 6]])\n",
    "\n",
    "distinctEigenValues(A)"
   ]
  },
  {
   "cell_type": "code",
   "execution_count": 30,
   "id": "2bbcdd4e",
   "metadata": {},
   "outputs": [
    {
     "name": "stdout",
     "output_type": "stream",
     "text": [
      "The eigen values are not distinct and the corresponding eigen vectors are linearly dependent\n"
     ]
    }
   ],
   "source": [
    "B = np.array([[2, 1],\n",
    "               [4, 2]])\n",
    "distinctEigenValues(B)"
   ]
  },
  {
   "cell_type": "code",
   "execution_count": 31,
   "id": "b49f82e9",
   "metadata": {},
   "outputs": [
    {
     "name": "stdout",
     "output_type": "stream",
     "text": [
      "The eigen values are not distinct but the corresponding eigen vectors are linearly independent\n"
     ]
    }
   ],
   "source": [
    "C = np.array([[3, 2, 4],\n",
    "            [2, 0, 2],\n",
    "            [4, 2, 3]])\n",
    "distinctEigenValues(C)"
   ]
  },
  {
   "cell_type": "code",
   "execution_count": null,
   "id": "7a482828",
   "metadata": {},
   "outputs": [],
   "source": []
  }
 ],
 "metadata": {
  "kernelspec": {
   "display_name": "Python 3 (ipykernel)",
   "language": "python",
   "name": "python3"
  },
  "language_info": {
   "codemirror_mode": {
    "name": "ipython",
    "version": 3
   },
   "file_extension": ".py",
   "mimetype": "text/x-python",
   "name": "python",
   "nbconvert_exporter": "python",
   "pygments_lexer": "ipython3",
   "version": "3.9.7"
  }
 },
 "nbformat": 4,
 "nbformat_minor": 5
}
