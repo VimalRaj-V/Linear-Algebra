{
 "cells": [
  {
   "cell_type": "markdown",
   "id": "348dd54e",
   "metadata": {},
   "source": [
    "Derives the Google Matrix and calculate its steady state vector"
   ]
  },
  {
   "cell_type": "code",
   "execution_count": null,
   "id": "335dfb42",
   "metadata": {},
   "outputs": [],
   "source": [
    "import numpy as np"
   ]
  },
  {
   "cell_type": "code",
   "execution_count": 16,
   "id": "62527366",
   "metadata": {},
   "outputs": [],
   "source": [
    "def mat_mul(A, v):\n",
    "    \"\"\"\n",
    "    This function helps us to multipy two given matirces\n",
    "    \"\"\"\n",
    "    r1,c1 = A.shape\n",
    "    r2, c2 = v.shape\n",
    "    assert(c1==r2), \"The matrix size has to match\"\n",
    "    \n",
    "    # Creates a empty matrix of size r1*c2\n",
    "    res = np.zeros((r1, c2))\n",
    "    \n",
    "    # Iterates over every row and every column of A and v matrices respectively\n",
    "    for i in range(r1):\n",
    "        for j in range(c2):\n",
    "            for k in range(c1):\n",
    "                res[i][j] += A[i][k]*v[k][j]\n",
    "    return(res)  "
   ]
  },
  {
   "cell_type": "code",
   "execution_count": 17,
   "id": "a6a2dec9",
   "metadata": {},
   "outputs": [],
   "source": [
    "def display(vector, dig):\n",
    "    '''\n",
    "    Display the given vector in a formatted way upto the no of digits specified\n",
    "    '''\n",
    "    for num in vector:\n",
    "        print(round(num.real, dig), end=\"\\t\\t\")\n",
    "    print()"
   ]
  },
  {
   "cell_type": "code",
   "execution_count": 18,
   "id": "793bf57c",
   "metadata": {},
   "outputs": [],
   "source": [
    "def eigenVector_for_eigenValue_One(A):\n",
    "    \"\"\"\n",
    "    Displays the eigen vector corresponding to eigen value one and its scaled version\n",
    "    \"\"\"\n",
    "    eig_val, eig_vec = np.linalg.eig(A)\n",
    "    index = 0\n",
    "    \n",
    "    # Finds the index of eigen value one\n",
    "    for i in range(len(eig_val)):\n",
    "        if round(eig_val[i].real, 2) == 1 and round(eig_val[i].imag, 2) == 0:\n",
    "            index = i\n",
    "            break\n",
    "    \n",
    "    # Seperates the eigen vector corresponding to eigen value equals one\n",
    "    eigen_vector = []\n",
    "    for i in range(len(eig_vec)):\n",
    "        eigen_vector.append(eig_vec[i][index].real)\n",
    "\n",
    "    print(\"\\nThe eigen vector for corresponding eigen value equals one is\")  \n",
    "    display(eigen_vector, 3)\n",
    "\n",
    "    # Scales the eigen vector\n",
    "    eigen_vector /= sum(eigen_vector) \n",
    "    print(\"\\nThe scaled down eigen vector is shown below\")\n",
    "    display(eigen_vector, 3)"
   ]
  },
  {
   "cell_type": "code",
   "execution_count": 19,
   "id": "6a9286b4",
   "metadata": {},
   "outputs": [
    {
     "name": "stdout",
     "output_type": "stream",
     "text": [
      "The Google matrix is\n",
      " [[0.01428571 0.46428571 0.01428571 0.14285714 0.01428571 0.01428571\n",
      "  0.14285714]\n",
      " [0.01428571 0.01428571 0.31428571 0.14285714 0.46428571 0.01428571\n",
      "  0.14285714]\n",
      " [0.91428571 0.01428571 0.01428571 0.14285714 0.01428571 0.31428571\n",
      "  0.14285714]\n",
      " [0.01428571 0.01428571 0.31428571 0.14285714 0.01428571 0.01428571\n",
      "  0.14285714]\n",
      " [0.01428571 0.46428571 0.01428571 0.14285714 0.01428571 0.31428571\n",
      "  0.14285714]\n",
      " [0.01428571 0.01428571 0.31428571 0.14285714 0.46428571 0.01428571\n",
      "  0.14285714]\n",
      " [0.01428571 0.01428571 0.01428571 0.14285714 0.01428571 0.31428571\n",
      "  0.14285714]]\n",
      "\n",
      "The Steady state vector is\n",
      " [[0.11487166]\n",
      " [0.1706182 ]\n",
      " [0.19266342]\n",
      " [0.09589249]\n",
      " [0.16605711]\n",
      " [0.1706182 ]\n",
      " [0.08927893]]\n",
      "\n",
      "The eigen vector for corresponding eigen value equals one is\n",
      "0.293\t\t0.436\t\t0.492\t\t0.245\t\t0.424\t\t0.436\t\t0.228\t\t\n",
      "\n",
      "The scaled down eigen vector is shown below\n",
      "0.115\t\t0.171\t\t0.193\t\t0.096\t\t0.166\t\t0.171\t\t0.089\t\t\n"
     ]
    }
   ],
   "source": [
    "# Transition matrix from the directed graph\n",
    "P = np.array([[0, 1/2, 0, 0, 0, 0, 0],\n",
    "             [0, 0, 1/3, 0, 1/2, 0, 0],\n",
    "             [1, 0, 0, 0, 0, 1/3, 0],\n",
    "             [0, 0, 1/3, 1, 0, 0, 0],\n",
    "             [0, 1/2, 0, 0, 0, 1/3, 0],\n",
    "             [0, 0, 1/3, 0, 1/2, 0, 0],\n",
    "             [0, 0, 0, 0, 0, 1/3, 1]])\n",
    "\n",
    "dim = len(P)\n",
    "prob = [0]*dim\n",
    "\n",
    "# Handles the dangling nodes\n",
    "for i in range(len(P)):\n",
    "    for j in range(len(P[i])):\n",
    "        if i != j:\n",
    "            prob[j] += P[i][j]\n",
    "        \n",
    "P_star = np.copy(P)\n",
    "for i in range(len(prob)):\n",
    "    if round(prob[i], 2) == 0:\n",
    "        for j in range(len(P)):\n",
    "            P_star[j][i] = 1/dim\n",
    "\n",
    "# Handles the disconnected graph nodes\n",
    "H = np.ones((dim, dim))*(1/dim)\n",
    "\n",
    "# Google matrix\n",
    "p = 0.9\n",
    "G = p*P_star + (1-p)*H\n",
    "print(\"The Google matrix is\\n\", G)\n",
    "\n",
    "# Creates a initial Page rank vector based on assumption that every page has equal probability\n",
    "X = np.ones((dim, 1))*(1/dim)\n",
    "\n",
    "# Iterates the Page rank vector over the Google matrix to obtain the steady state vector\n",
    "for i in range(200):\n",
    "    prev_state = X\n",
    "    state = mat_mul(G, prev_state)\n",
    "    X = state\n",
    "    tol = sum(prev_state-state)\n",
    "    \n",
    "\n",
    "print(\"\\nThe Steady state vector is\\n\", X)\n",
    "eigenVector_for_eigenValue_One(G)"
   ]
  },
  {
   "cell_type": "code",
   "execution_count": null,
   "id": "b0facefe",
   "metadata": {},
   "outputs": [],
   "source": []
  }
 ],
 "metadata": {
  "kernelspec": {
   "display_name": "Python 3 (ipykernel)",
   "language": "python",
   "name": "python3"
  },
  "language_info": {
   "codemirror_mode": {
    "name": "ipython",
    "version": 3
   },
   "file_extension": ".py",
   "mimetype": "text/x-python",
   "name": "python",
   "nbconvert_exporter": "python",
   "pygments_lexer": "ipython3",
   "version": "3.9.7"
  }
 },
 "nbformat": 4,
 "nbformat_minor": 5
}
