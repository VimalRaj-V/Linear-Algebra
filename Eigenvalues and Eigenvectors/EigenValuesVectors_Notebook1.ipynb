{
 "cells": [
  {
   "cell_type": "markdown",
   "id": "613733af",
   "metadata": {},
   "source": [
    "In this program, the given vectors u and v are checked to determine whether they are eigenvalues of A or not."
   ]
  },
  {
   "cell_type": "code",
   "execution_count": 1,
   "id": "73dacb11",
   "metadata": {},
   "outputs": [],
   "source": [
    "import numpy as np\n",
    "import matplotlib.pyplot as plt"
   ]
  },
  {
   "cell_type": "code",
   "execution_count": 2,
   "id": "252fabb8",
   "metadata": {},
   "outputs": [],
   "source": [
    "def plot_vector (vector, text):\n",
    "    \"\"\"\n",
    "    This function helps us to plot any given vector from origin (0, 0)\n",
    "    \"\"\"\n",
    "    x = np.linspace(0, vector[0])\n",
    "    y = np.linspace(0, vector[1])\n",
    "    \n",
    "    #Plots the x and y data values in a graph\n",
    "    plt.plot(x,y)\n",
    "    plt.annotate(\n",
    "        text,\n",
    "        xy=(vector[0], vector[1]), xycoords='data',\n",
    "        xytext=(60, -15), textcoords='offset points',\n",
    "        arrowprops=dict(arrowstyle=\"->\"))"
   ]
  },
  {
   "cell_type": "code",
   "execution_count": 3,
   "id": "a909e6ce",
   "metadata": {},
   "outputs": [],
   "source": [
    "def plot_axis():\n",
    "    \"\"\"\n",
    "    This function helps us to plot the coordinate axis\n",
    "    \"\"\"\n",
    "    x1 = np.linspace(-25, 10)\n",
    "    y1 = np.linspace(0, 0)\n",
    "    x2 = np.linspace(0, 0)\n",
    "    y2 = np.linspace(-10, 20)\n",
    "    plt.plot(x1, y1, 'k--', x2, y2, 'k--')\n",
    "    "
   ]
  },
  {
   "cell_type": "code",
   "execution_count": 4,
   "id": "9d02bec5",
   "metadata": {},
   "outputs": [],
   "source": [
    "def mat_mul(A, v):\n",
    "    \"\"\"\n",
    "    This function helps us to multipy two given matirces\n",
    "    \"\"\"\n",
    "    r1,c1 = A.shape\n",
    "    r2, c2 = v.shape\n",
    "    assert(c1==r2), \"The matrix size has to match\"\n",
    "    \n",
    "    # Creates a empty matrix of size r1*c2\n",
    "    res = np.zeros((r1, c2))\n",
    "    \n",
    "    # Iterates over every row and every column of A and v matrices respectively\n",
    "    for i in range(r1):\n",
    "        for j in range(c2):\n",
    "            for k in range(c1):\n",
    "                res[i][j] += A[i][k]*v[k][j]\n",
    "    return(res)  "
   ]
  },
  {
   "cell_type": "code",
   "execution_count": 5,
   "id": "530dab1f",
   "metadata": {},
   "outputs": [],
   "source": [
    "A = np.array([[1, 6],\n",
    "             [5, 2]])\n"
   ]
  },
  {
   "cell_type": "code",
   "execution_count": 6,
   "id": "c5469dfe",
   "metadata": {},
   "outputs": [],
   "source": [
    "u = np.array([[6],\n",
    "             [-5]])\n",
    "\n",
    "v = np.array([[3],\n",
    "             [-2]])"
   ]
  },
  {
   "cell_type": "code",
   "execution_count": 7,
   "id": "e4db54a8",
   "metadata": {},
   "outputs": [
    {
     "data": {
      "image/png": "[encoded data removed]",
      "text/plain": [
       "<Figure size 432x288 with 1 Axes>"
      ]
     },
     "metadata": {
      "needs_background": "light"
     },
     "output_type": "display_data"
    }
   ],
   "source": [
    "plot_axis()\n",
    "\n",
    "span = mat_mul(A, u)\n",
    "plot_vector(span, 'Au')\n",
    "plot_vector(u, 'u')\n",
    "\n",
    "\n",
    "span = mat_mul(A, v)\n",
    "plot_vector(span, 'Av')\n",
    "plot_vector(v, 'v')"
   ]
  },
  {
   "cell_type": "markdown",
   "id": "591bd5fc",
   "metadata": {},
   "source": [
    "u is an eigen vector as it streches along the span"
   ]
  },
  {
   "cell_type": "markdown",
   "id": "c5b183a4",
   "metadata": {},
   "source": [
    "v is not an eigen vector as it streches and rotates from the span"
   ]
  }
 ],
 "metadata": {
  "kernelspec": {
   "display_name": "Python 3 (ipykernel)",
   "language": "python",
   "name": "python3"
  },
  "language_info": {
   "codemirror_mode": {
    "name": "ipython",
    "version": 3
   },
   "file_extension": ".py",
   "mimetype": "text/x-python",
   "name": "python",
   "nbconvert_exporter": "python",
   "pygments_lexer": "ipython3",
   "version": "3.9.7"
  }
 },
 "nbformat": 4,
 "nbformat_minor": 5
}
