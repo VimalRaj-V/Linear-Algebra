{
 "cells": [
  {
   "cell_type": "markdown",
   "id": "fe2db2c0",
   "metadata": {},
   "source": [
    "Calculate the product of matrix A and its inverse"
   ]
  },
  {
   "cell_type": "code",
   "execution_count": 11,
   "id": "8216f305",
   "metadata": {},
   "outputs": [],
   "source": [
    "import numpy as np"
   ]
  },
  {
   "cell_type": "code",
   "execution_count": 12,
   "id": "2b3c30d6",
   "metadata": {},
   "outputs": [],
   "source": [
    "def mat_mul(A, v):\n",
    "    \"\"\"\n",
    "    This function helps us to multipy two given matirces\n",
    "    \"\"\"\n",
    "    r1,c1 = A.shape\n",
    "    r2, c2 = v.shape\n",
    "    assert(c1==r2), \"The matrix size has to match\"\n",
    "    \n",
    "    # Creates a empty matrix of size r1*c2\n",
    "    res = np.zeros((r1, c2))\n",
    "    \n",
    "    # Iterates over every row and every column of A and v matrices respectively\n",
    "    for i in range(r1):\n",
    "        for j in range(c2):\n",
    "            for k in range(c1):\n",
    "                res[i][j] += A[i][k]*v[k][j]\n",
    "    return(res)  "
   ]
  },
  {
   "cell_type": "code",
   "execution_count": 13,
   "id": "457ae50c",
   "metadata": {},
   "outputs": [],
   "source": [
    "def det (A):\n",
    "    \"\"\"\n",
    "    Computes the determinant of a 2*2 or 3*3 square matrix\n",
    "    \"\"\"\n",
    "    r, c = A.shape\n",
    "    assert(r == c), \"Matrix has to be square\"\n",
    "    det = 0\n",
    "    if (r == 2):\n",
    "        return(A[0][0]*A[1][1] - A[0][1]*A[1][0])\n",
    "    \n",
    "    for i in range(r):\n",
    "        minor1 = 1\n",
    "        minor2 = 1\n",
    "        for j in range (c):\n",
    "            minor1 *= A[j][(j+i)%r]\n",
    "            minor2 *= A[r-j-1][(j+i)%r]   \n",
    "        det += (minor1-minor2)\n",
    "    return(det)"
   ]
  },
  {
   "cell_type": "code",
   "execution_count": 17,
   "id": "5e21566d",
   "metadata": {},
   "outputs": [],
   "source": [
    "def inv(A):\n",
    "    \"\"\"\n",
    "    Calculates the Inverse of a matrix if it exists\n",
    "    \"\"\"\n",
    "    r, c = A.shape\n",
    "    assert (r==c), \"Matrix has to be square\"\n",
    "    assert(det(A) != 0), \"Matrix has to be non-singular\"\n",
    "    \n",
    "    # Creating an augumented matrix\n",
    "    augumentedMatrix = np.zeros((r, c*2))\n",
    "    \n",
    "    for i in range(r):\n",
    "        for j in range(c):\n",
    "            augumentedMatrix[i][j] = A[i][j]\n",
    "        augumentedMatrix[i][j+i+1] = 1\n",
    "        \n",
    "    # Changes the row which haves a diagonal element zero\n",
    "    for i in range(r):\n",
    "        if augumentedMatrix[i][i] == 0:\n",
    "            augumentedMatrix[i], augumentedMatrix[(i + 1) % r] = np.copy(augumentedMatrix[(i + 1) % r]), np.copy(augumentedMatrix[i])\n",
    "    \n",
    "    # Applying Gauss Jordan method to find the inverse\n",
    "    for i in range(r):\n",
    "        k = i\n",
    "        k_count = 0\n",
    "        while (k_count<r):\n",
    "            if (i==k and augumentedMatrix[i][i] != 0):\n",
    "                div = augumentedMatrix[i][i]\n",
    "                for j in range(2*c):\n",
    "                    augumentedMatrix[i][j] = augumentedMatrix[i][j]/div\n",
    "            else:\n",
    "                mul = augumentedMatrix[k][i]\n",
    "                for j in range(2*c):\n",
    "                    augumentedMatrix[k][j] -= (mul*augumentedMatrix[i][j]) \n",
    "            k_count += 1\n",
    "            k = (k+1)%r\n",
    "    \n",
    "    # Seperates the inverse from the augumented matrix\n",
    "    res = augumentedMatrix[:, c:]\n",
    "    return(res)"
   ]
  },
  {
   "cell_type": "code",
   "execution_count": 18,
   "id": "40346eb0",
   "metadata": {},
   "outputs": [],
   "source": [
    "A = np.array([[0, 1, 2],\n",
    "    [1, 0, 3],\n",
    "      [4, -3, 8]\n",
    "      ])\n",
    "\n",
    "B = np.array([[3, 2, 4],\n",
    "             [2, 0, 2],\n",
    "             [4, 2, 3]])"
   ]
  },
  {
   "cell_type": "code",
   "execution_count": 19,
   "id": "53812271",
   "metadata": {},
   "outputs": [
    {
     "data": {
      "text/plain": [
       "array([[1., 0., 0.],\n",
       "       [0., 1., 0.],\n",
       "       [0., 0., 1.]])"
      ]
     },
     "execution_count": 19,
     "metadata": {},
     "output_type": "execute_result"
    }
   ],
   "source": [
    "A1 = inv(A)\n",
    "mat_mul(A1, A)"
   ]
  },
  {
   "cell_type": "code",
   "execution_count": null,
   "id": "f222b707",
   "metadata": {},
   "outputs": [],
   "source": []
  },
  {
   "cell_type": "code",
   "execution_count": null,
   "id": "d1606549",
   "metadata": {},
   "outputs": [],
   "source": []
  }
 ],
 "metadata": {
  "kernelspec": {
   "display_name": "Python 3 (ipykernel)",
   "language": "python",
   "name": "python3"
  },
  "language_info": {
   "codemirror_mode": {
    "name": "ipython",
    "version": 3
   },
   "file_extension": ".py",
   "mimetype": "text/x-python",
   "name": "python",
   "nbconvert_exporter": "python",
   "pygments_lexer": "ipython3",
   "version": "3.9.7"
  }
 },
 "nbformat": 4,
 "nbformat_minor": 5
}
