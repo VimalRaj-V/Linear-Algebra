{
 "cells": [
  {
   "cell_type": "markdown",
   "id": "16fbb13b",
   "metadata": {},
   "source": [
    "Formulated the importance of each page as a matrix and determined its eigen vector for eigen value equals one"
   ]
  },
  {
   "cell_type": "code",
   "execution_count": 1,
   "id": "1ca6b0b6",
   "metadata": {},
   "outputs": [],
   "source": [
    "import numpy as np"
   ]
  },
  {
   "cell_type": "code",
   "execution_count": 2,
   "id": "9c60859e",
   "metadata": {},
   "outputs": [],
   "source": [
    "def display(vector, dig):\n",
    "    '''\n",
    "    Display the given vector in a formatted way upto the no of digits specified\n",
    "    '''\n",
    "    for num in vector:\n",
    "        print(round(num.real, dig), end=\"\\t\\t\")\n",
    "    print()"
   ]
  },
  {
   "cell_type": "code",
   "execution_count": 3,
   "id": "bb47cf00",
   "metadata": {},
   "outputs": [
    {
     "name": "stdout",
     "output_type": "stream",
     "text": [
      "Eigen values of A are  [ 1.        +0.j         -0.36062333+0.41097555j -0.36062333-0.41097555j\n",
      " -0.27875333+0.j        ]\n",
      "\n",
      "The eigen vector for corresponding eigen value equals one is\n",
      "0.721\t\t0.24\t\t0.541\t\t0.361\t\t\n",
      "\n",
      "The scaled down eigen vector is shown below\n",
      "0.387\t\t0.129\t\t0.29\t\t0.194\t\t\n"
     ]
    }
   ],
   "source": [
    "A = np.array([[0, 0, 1, 1/2],\n",
    "             [1/3, 0, 0, 0],\n",
    "             [1/3, 1/2, 0, 1/2],\n",
    "             [1/3, 1/2, 0, 0]])\n",
    "\n",
    "eig_val, eig_vec = np.linalg.eig(A)\n",
    "print(\"Eigen values of A are \", eig_val)\n",
    "\n",
    "# Determines the index of the eigen value equals one\n",
    "index = 0\n",
    "for i in range(len(eig_val)):\n",
    "    if round(eig_val[i].real, 2) == 1 and round(eig_val[i].imag, 2) == 0:\n",
    "        index = i\n",
    "        break\n",
    "\n",
    "# Seperates the eigen vector for the eigen value equals one\n",
    "eigen_vector = []\n",
    "for i in range(len(eig_vec)):\n",
    "    eigen_vector.append(eig_vec[i][index])\n",
    "    \n",
    "print(\"\\nThe eigen vector for corresponding eigen value equals one is\")\n",
    "display(eigen_vector, 3)\n",
    "\n",
    "eigen_vector /= sum(eigen_vector) # Scaling\n",
    "print(\"\\nThe scaled down eigen vector is shown below\")\n",
    "display(eigen_vector, 3)\n"
   ]
  },
  {
   "cell_type": "code",
   "execution_count": null,
   "id": "18ba101c",
   "metadata": {},
   "outputs": [],
   "source": []
  }
 ],
 "metadata": {
  "kernelspec": {
   "display_name": "Python 3 (ipykernel)",
   "language": "python",
   "name": "python3"
  },
  "language_info": {
   "codemirror_mode": {
    "name": "ipython",
    "version": 3
   },
   "file_extension": ".py",
   "mimetype": "text/x-python",
   "name": "python",
   "nbconvert_exporter": "python",
   "pygments_lexer": "ipython3",
   "version": "3.9.7"
  }
 },
 "nbformat": 4,
 "nbformat_minor": 5
}
