{
 "cells": [
  {
   "cell_type": "markdown",
   "id": "fdf276aa",
   "metadata": {},
   "source": [
    "Proves that a diagonizable n*n matrix has n independent vectors."
   ]
  },
  {
   "cell_type": "code",
   "execution_count": 43,
   "id": "064738af",
   "metadata": {},
   "outputs": [],
   "source": [
    "import numpy as np\n",
    "import sympy as sy"
   ]
  },
  {
   "cell_type": "code",
   "execution_count": 44,
   "id": "ae623266",
   "metadata": {},
   "outputs": [],
   "source": [
    "def mat_mul(A, v):\n",
    "    \"\"\"\n",
    "    This function helps us to multipy two given matirces\n",
    "    \"\"\"\n",
    "    r1,c1 = A.shape\n",
    "    r2, c2 = v.shape\n",
    "    assert(c1==r2), \"The matrix size has to match\"\n",
    "    \n",
    "    # Creates a empty matrix of size r1*c2\n",
    "    res = np.zeros((r1, c2))\n",
    "    \n",
    "    # Iterates over every row and every column of A and v matrices respectively\n",
    "    for i in range(r1):\n",
    "        for j in range(c2):\n",
    "            for k in range(c1):\n",
    "                res[i][j] += A[i][k]*v[k][j]\n",
    "    return(res)  "
   ]
  },
  {
   "cell_type": "code",
   "execution_count": 45,
   "id": "e837adc3",
   "metadata": {},
   "outputs": [],
   "source": [
    "def det (A):\n",
    "    \"\"\"\n",
    "    Calculates the determinant of a 2*2 and 3*3 matrix\n",
    "    \"\"\"\n",
    "    r, c = A.shape\n",
    "    assert(r == c), \"Matrix has to be square\"\n",
    "    det = 0\n",
    "    if (r == 2):\n",
    "        return(A[0][0]*A[1][1] - A[0][1]*A[1][0])\n",
    "    for i in range(r):\n",
    "        minor1 = 1\n",
    "        minor2 = 1\n",
    "        for j in range (c):\n",
    "            minor1 *= A[j][(j+i)%r]\n",
    "            minor2 *= A[r-j-1][(j+i)%r]   \n",
    "        det += (minor1-minor2)\n",
    "    return(det)"
   ]
  },
  {
   "cell_type": "code",
   "execution_count": 46,
   "id": "71d8bbca",
   "metadata": {},
   "outputs": [],
   "source": [
    "def linear_independence(A):\n",
    "    \"\"\"\n",
    "    Checks whether the given matrix is linearly independent or not using Row Reduces Echelon Form\n",
    "    \"\"\"\n",
    "    M = sy.Matrix(A)\n",
    "\n",
    "    RREF = np.array(M.rref()[0])    # Finds the Row Reduced Echelon Form\n",
    "    dim = len(RREF)\n",
    "    rank = 0\n",
    "    \n",
    "    # Checks the no of non-zero rows\n",
    "    for i in range(dim):\n",
    "        for j in RREF[i]:\n",
    "            if j == 1:\n",
    "                rank+= 1\n",
    "                break\n",
    "                \n",
    "    if (dim == rank):\n",
    "        return(True)\n",
    "    else:\n",
    "        return(False)"
   ]
  },
  {
   "cell_type": "code",
   "execution_count": 47,
   "id": "47308faf",
   "metadata": {},
   "outputs": [],
   "source": [
    "def inv(A):\n",
    "    \"\"\"\n",
    "    Calculates the Inverse of a matrix if it exists\n",
    "    \"\"\"\n",
    "    r, c = A.shape\n",
    "    assert (r==c), \"Matrix has to be square\"\n",
    "    assert(det(A) != 0), \"Matrix has to be non-singular\"\n",
    "    \n",
    "    # Creating an augumented matrix\n",
    "    augumentedMatrix = np.zeros((r, c*2))\n",
    "    \n",
    "    for i in range(r):\n",
    "        for j in range(c):\n",
    "            augumentedMatrix[i][j] = A[i][j]\n",
    "        augumentedMatrix[i][j+i+1] = 1\n",
    "        \n",
    "    # Changes the row which haves a diagonal element zero\n",
    "    for i in range(r):\n",
    "        if augumentedMatrix[i][i] == 0:\n",
    "            augumentedMatrix[i], augumentedMatrix[(i + 1) % r] = np.copy(augumentedMatrix[(i + 1) % r]), np.copy(augumentedMatrix[i])\n",
    "    \n",
    "    # Applying Gauss Jordan method to find the inverse\n",
    "    for i in range(r):\n",
    "        k = i\n",
    "        k_count = 0\n",
    "        while (k_count<r):\n",
    "            if (i==k and augumentedMatrix[i][i] != 0):\n",
    "                div = augumentedMatrix[i][i]\n",
    "                for j in range(2*c):\n",
    "                    augumentedMatrix[i][j] = augumentedMatrix[i][j]/div\n",
    "            else:\n",
    "                mul = augumentedMatrix[k][i]\n",
    "                for j in range(2*c):\n",
    "                    augumentedMatrix[k][j] -= (mul*augumentedMatrix[i][j]) \n",
    "            k_count += 1\n",
    "            k = (k+1)%3\n",
    "    \n",
    "    # Seperates the inverse from the augumented matrix\n",
    "    res = augumentedMatrix[:, c:]\n",
    "    return(res)"
   ]
  },
  {
   "cell_type": "code",
   "execution_count": 48,
   "id": "c34eb417",
   "metadata": {},
   "outputs": [],
   "source": [
    "A = np.array([[1, 3, 3],\n",
    "             [-3, 5, 3],\n",
    "             [3, 3, 1]])\n",
    "dim = len(A)\n",
    "eig_val, eig_vec = np.linalg.eig(A)\n",
    "\n",
    "P = eig_vec\n",
    "\n",
    "# Computes a matrix D with diagonal values as eigen values\n",
    "D = np.zeros((dim, dim))\n",
    "for i in range(dim):\n",
    "    D[i][i] = eig_val[i]\n",
    "    \n",
    "P_inv = inv(P)\n",
    "    \n",
    "res = mat_mul(P, mat_mul(D, P_inv))   # PDP^-1"
   ]
  },
  {
   "cell_type": "code",
   "execution_count": 49,
   "id": "926669d2",
   "metadata": {},
   "outputs": [
    {
     "data": {
      "text/plain": [
       "array([[ 1,  3,  3],\n",
       "       [-3,  5,  3],\n",
       "       [ 3,  3,  1]])"
      ]
     },
     "execution_count": 49,
     "metadata": {},
     "output_type": "execute_result"
    }
   ],
   "source": [
    "A"
   ]
  },
  {
   "cell_type": "code",
   "execution_count": 50,
   "id": "537a098b",
   "metadata": {},
   "outputs": [
    {
     "data": {
      "text/plain": [
       "array([[ 1.,  3.,  3.],\n",
       "       [-3.,  5.,  3.],\n",
       "       [ 3.,  3.,  1.]])"
      ]
     },
     "execution_count": 50,
     "metadata": {},
     "output_type": "execute_result"
    }
   ],
   "source": [
    "res"
   ]
  },
  {
   "cell_type": "markdown",
   "id": "96a25c7f",
   "metadata": {},
   "source": [
    "#### Thus, A = PDP^-1"
   ]
  },
  {
   "cell_type": "code",
   "execution_count": 51,
   "id": "fe1dec1c",
   "metadata": {},
   "outputs": [
    {
     "name": "stdout",
     "output_type": "stream",
     "text": [
      "The columns of P are independent\n"
     ]
    }
   ],
   "source": [
    "if linear_independence(P):\n",
    "    print(\"The columns of P are independent\")\n",
    "else:\n",
    "    print(\"The columns of P are not independent\")"
   ]
  },
  {
   "cell_type": "code",
   "execution_count": null,
   "id": "97e9679b",
   "metadata": {},
   "outputs": [],
   "source": []
  }
 ],
 "metadata": {
  "kernelspec": {
   "display_name": "Python 3 (ipykernel)",
   "language": "python",
   "name": "python3"
  },
  "language_info": {
   "codemirror_mode": {
    "name": "ipython",
    "version": 3
   },
   "file_extension": ".py",
   "mimetype": "text/x-python",
   "name": "python",
   "nbconvert_exporter": "python",
   "pygments_lexer": "ipython3",
   "version": "3.9.7"
  }
 },
 "nbformat": 4,
 "nbformat_minor": 5
}
