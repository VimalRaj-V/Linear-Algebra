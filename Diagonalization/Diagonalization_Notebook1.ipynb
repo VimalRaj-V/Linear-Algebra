{
 "cells": [
  {
   "cell_type": "markdown",
   "id": "ec7c0355",
   "metadata": {},
   "source": [
    "Transforming the basis vectors (e1 and e2) using a Diagonal matrix D and ploting the result"
   ]
  },
  {
   "cell_type": "code",
   "execution_count": 7,
   "id": "8cba9fe4",
   "metadata": {},
   "outputs": [],
   "source": [
    "import numpy as np\n",
    "import matplotlib.pyplot as plt"
   ]
  },
  {
   "cell_type": "code",
   "execution_count": 8,
   "id": "36b818d8",
   "metadata": {},
   "outputs": [],
   "source": [
    "def mat_mul(A, v):\n",
    "    \"\"\"\n",
    "    This function helps us to multipy two given matirces\n",
    "    \"\"\"\n",
    "    r1,c1 = A.shape\n",
    "    r2, c2 = v.shape\n",
    "    assert(c1==r2), \"The matrix size has to match\"\n",
    "    \n",
    "    # Creates a empty matrix of size r1*c2\n",
    "    res = np.zeros((r1, c2))\n",
    "    \n",
    "    # Iterates over every row and every column of A and v matrices respectively\n",
    "    for i in range(r1):\n",
    "        for j in range(c2):\n",
    "            for k in range(c1):\n",
    "                res[i][j] += A[i][k]*v[k][j]\n",
    "    return(res)  "
   ]
  },
  {
   "cell_type": "code",
   "execution_count": 9,
   "id": "892c3d81",
   "metadata": {},
   "outputs": [],
   "source": [
    "def plot_axis():\n",
    "    \"\"\"\n",
    "    This function helps us to plot the standard coordinate axis\n",
    "    \"\"\"\n",
    "    x1 = np.linspace(0, 5)\n",
    "    y1 = np.linspace(0, 0)\n",
    "    x2 = np.linspace(0, 0)\n",
    "    y2 = np.linspace(0, 10)\n",
    "    plt.plot(x1, y1, 'k--', x2, y2, 'k--')"
   ]
  },
  {
   "cell_type": "code",
   "execution_count": 10,
   "id": "7100f3db",
   "metadata": {},
   "outputs": [],
   "source": [
    "def plot_vector (vector, text, colour):\n",
    "    \"\"\"\n",
    "    This function helps us to plot any given vector from origin (0, 0)\n",
    "    \"\"\"\n",
    "    x = np.linspace(0, vector[0])\n",
    "    y = np.linspace(0, vector[1])\n",
    "    plt.plot(x,y, color=colour)\n",
    "    plt.annotate(\n",
    "        text,\n",
    "        xy=(vector[0], vector[1]), xycoords='data',\n",
    "        xytext=(vector[0]+1, vector[1]+3), textcoords='offset points', color=colour)"
   ]
  },
  {
   "cell_type": "code",
   "execution_count": 11,
   "id": "97681c6d",
   "metadata": {},
   "outputs": [],
   "source": [
    "e1 = np.array([[1], [0]])\n",
    "e2 = np.array([[0], [1]])\n",
    "v = np.array([[1], [1]])\n",
    "D = np.array([[3, 0],[0, 6]])\n",
    "d1 = mat_mul(D, e1)\n",
    "d2 = mat_mul(D, e2)\n",
    "d3 = mat_mul(D, v)"
   ]
  },
  {
   "cell_type": "code",
   "execution_count": 12,
   "id": "ce5dcbd4",
   "metadata": {},
   "outputs": [
    {
     "data": {
      "image/png": "[encoded data removed]",
      "text/plain": [
       "<Figure size 432x288 with 1 Axes>"
      ]
     },
     "metadata": {
      "needs_background": "light"
     },
     "output_type": "display_data"
    }
   ],
   "source": [
    "plot_axis()\n",
    "plot_vector(e1, 'e1', 'b')\n",
    "plot_vector(e2, 'e2', 'b')\n",
    "plot_vector(d1, 'De1', 'y')\n",
    "plot_vector(d2, 'De2', 'y')\n",
    "plot_vector(v, 'v', 'b')\n",
    "plot_vector(d3, 'Dv', 'y')\n"
   ]
  },
  {
   "cell_type": "markdown",
   "id": "7352b751",
   "metadata": {},
   "source": [
    "A Diagonal matrix can only stretch a vector"
   ]
  },
  {
   "cell_type": "code",
   "execution_count": null,
   "id": "2f591e3c",
   "metadata": {},
   "outputs": [],
   "source": []
  }
 ],
 "metadata": {
  "kernelspec": {
   "display_name": "Python 3 (ipykernel)",
   "language": "python",
   "name": "python3"
  },
  "language_info": {
   "codemirror_mode": {
    "name": "ipython",
    "version": 3
   },
   "file_extension": ".py",
   "mimetype": "text/x-python",
   "name": "python",
   "nbconvert_exporter": "python",
   "pygments_lexer": "ipython3",
   "version": "3.9.7"
  }
 },
 "nbformat": 4,
 "nbformat_minor": 5
}
