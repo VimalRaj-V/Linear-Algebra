{
 "cells": [
  {
   "cell_type": "code",
   "execution_count": 1,
   "id": "0e754860",
   "metadata": {},
   "outputs": [],
   "source": [
    "import numpy as np\n",
    "import matplotlib.pyplot as plt"
   ]
  },
  {
   "cell_type": "code",
   "execution_count": 2,
   "id": "6d557419",
   "metadata": {},
   "outputs": [],
   "source": [
    "def mat_mul(A, v):\n",
    "    \"\"\"\n",
    "    This function helps us to multipy two given matirces\n",
    "    \"\"\"\n",
    "    r1,c1 = A.shape\n",
    "    r2, c2 = v.shape\n",
    "    assert(c1==r2), \"The matrix size has to match\"\n",
    "    \n",
    "    # Creates a empty matrix of size r1*c2\n",
    "    res = np.zeros((r1, c2))\n",
    "    \n",
    "    # Iterates over every row and every column of A and v matrices respectively\n",
    "    for i in range(r1):\n",
    "        for j in range(c2):\n",
    "            for k in range(c1):\n",
    "                res[i][j] += A[i][k]*v[k][j]\n",
    "    return(res)"
   ]
  },
  {
   "cell_type": "code",
   "execution_count": 3,
   "id": "8abb0da3",
   "metadata": {},
   "outputs": [],
   "source": [
    "def det (A):\n",
    "    \"\"\"\n",
    "    Computes the determinant of a 2*2 or 3*3 square matrix\n",
    "    \"\"\"\n",
    "    r, c = A.shape\n",
    "    assert(r == c), \"Matrix has to be square\"\n",
    "    det = 0\n",
    "    if (r == 2):\n",
    "        return(A[0][0]*A[1][1] - A[0][1]*A[1][0])\n",
    "    \n",
    "    for i in range(r):\n",
    "        minor1 = 1\n",
    "        minor2 = 1\n",
    "        for j in range (c):\n",
    "            minor1 *= A[j][(j+i)%r]\n",
    "            minor2 *= A[r-j-1][(j+i)%r]   \n",
    "        det += (minor1-minor2)\n",
    "    return(det)"
   ]
  },
  {
   "cell_type": "code",
   "execution_count": 16,
   "id": "5e45e44c",
   "metadata": {},
   "outputs": [],
   "source": [
    "def inv(A):\n",
    "    \"\"\"\n",
    "    Calculates the Inverse of a matrix if it exists\n",
    "    \"\"\"\n",
    "    r, c = A.shape\n",
    "    assert (r==c), \"Matrix has to be square\"\n",
    "    assert(det(A) != 0), \"Matrix has to be non-singular\"\n",
    "    \n",
    "    # Creating an augumented matrix\n",
    "    augumentedMatrix = np.zeros((r, c*2))\n",
    "    \n",
    "    for i in range(r):\n",
    "        for j in range(c):\n",
    "            augumentedMatrix[i][j] = A[i][j]\n",
    "        augumentedMatrix[i][j+i+1] = 1\n",
    "        \n",
    "    # Changes the row which haves a diagonal element zero\n",
    "    for i in range(r):\n",
    "        if augumentedMatrix[i][i] == 0:\n",
    "            augumentedMatrix[i], augumentedMatrix[(i + 1) % r] = np.copy(augumentedMatrix[(i + 1) % r]), np.copy(augumentedMatrix[i])\n",
    "    \n",
    "    # Applying Gauss Jordan method to find the inverse\n",
    "    for i in range(r):\n",
    "        k = i\n",
    "        k_count = 0\n",
    "        while (k_count<r):\n",
    "            if (i==k and augumentedMatrix[i][i] != 0):\n",
    "                div = augumentedMatrix[i][i]\n",
    "                for j in range(2*c):\n",
    "                    augumentedMatrix[i][j] = augumentedMatrix[i][j]/div\n",
    "            else:\n",
    "                mul = augumentedMatrix[k][i]\n",
    "                for j in range(2*c):\n",
    "                    augumentedMatrix[k][j] -= (mul*augumentedMatrix[i][j]) \n",
    "            k_count += 1\n",
    "            k = (k+1)%r\n",
    "    \n",
    "    # Seperates the inverse from the augumented matrix\n",
    "    res = augumentedMatrix[:, c:]\n",
    "    return(res)"
   ]
  },
  {
   "cell_type": "code",
   "execution_count": 17,
   "id": "6c6a346b",
   "metadata": {},
   "outputs": [],
   "source": [
    "def plot_vector (vector, text = \"\", colour = \"k\", legend=True):\n",
    "    \"\"\"\n",
    "    This function helps us to plot any given vector from origin (0, 0)\n",
    "    \"\"\"\n",
    "    x = np.linspace(0, vector[0])\n",
    "    y = np.linspace(0, vector[1])\n",
    "    plt.plot(x,y, colour, label=text.strip())\n",
    "    if (legend):\n",
    "        plt.legend()\n",
    "    plt.annotate(\n",
    "        text,\n",
    "        xy=(vector[0], vector[1]), xycoords='data',\n",
    "        xytext=(vector[0]+2, vector[1]+2), textcoords='offset points', color=colour)"
   ]
  },
  {
   "cell_type": "code",
   "execution_count": 18,
   "id": "c4c7bbca",
   "metadata": {},
   "outputs": [],
   "source": [
    "def diagonalise(A, P, x):\n",
    "    \"\"\"\n",
    "    Diagonalize the the given matrix into a basis form\n",
    "    \"\"\"\n",
    "    eig_val, eig_vec = np.linalg.eig(A)\n",
    "    \n",
    "    # Computes a matrix D with diagonal values as eigen values\n",
    "    D = np.zeros((len(A), len(A)))\n",
    "    for i in range(len(A)):\n",
    "        D[i][i] = eig_val[i]\n",
    "    \n",
    "    P_inv = inv(P)            \n",
    "    \n",
    "    # transforms the given vector x to basis coordinates\n",
    "    new_basis = mat_mul(P_inv, x)\n",
    "    # stretches the given vector x in basis coordinates\n",
    "    stretch = mat_mul(D, new_basis)\n",
    "    # transforms the given vector x to standard coordinates\n",
    "    old_basis = mat_mul(P, stretch)\n",
    "    \n",
    "    \n",
    "    return ([new_basis, stretch, old_basis])"
   ]
  },
  {
   "cell_type": "code",
   "execution_count": 19,
   "id": "4e5a7636",
   "metadata": {},
   "outputs": [
    {
     "name": "stdout",
     "output_type": "stream",
     "text": [
      "new basis coordinate:\n",
      " [[0.33333333]\n",
      " [1.33333333]]\n",
      "\n",
      "stretched coordinate: \n",
      " [[1.]\n",
      " [8.]]\n",
      "\n",
      "old basis coordinate: \n",
      " [[10.]\n",
      " [ 7.]]\n"
     ]
    }
   ],
   "source": [
    "A = np.array([[4, 2], \n",
    "             [1, 5]])\n",
    "\n",
    "B = np.array([[2, 1],\n",
    "             [-1, 1]])\n",
    "\n",
    "\n",
    "v = np.array([[2], \n",
    "             [1]])\n",
    "\n",
    "new_basis, stretch, old_basis = diagonalise(A, B, v)\n",
    "print('new basis coordinate:\\n', new_basis)\n",
    "print('\\nstretched coordinate: \\n', stretch)\n",
    "print('\\nold basis coordinate: \\n', old_basis)"
   ]
  },
  {
   "cell_type": "code",
   "execution_count": 20,
   "id": "9107db14",
   "metadata": {},
   "outputs": [
    {
     "data": {
      "image/png": "[encoded data removed]",
      "text/plain": [
       "<Figure size 432x288 with 1 Axes>"
      ]
     },
     "metadata": {
      "needs_background": "light"
     },
     "output_type": "display_data"
    }
   ],
   "source": [
    "plt.axhline(0, color='black', linewidth=2)\n",
    "plt.axvline(0, color='black', linewidth=2)\n",
    "plt.axline((0, 0), (1, 1), linewidth=2, color='b')\n",
    "plt.axline((2, -1), (0, 0), linewidth=2, color='b')\n",
    "plt.grid(True)\n",
    "\n",
    "\n",
    "plot_vector(mat_mul(B, new_basis), \"    x = (2, 1) in Basis coordinates is (1/3, 4/3)\", 'g')\n",
    "plot_vector(mat_mul(B, stretch), \"Stretched B coordinates,\", 'r')\n",
    "plot_vector(old_basis, \"                                        Standard coordinates\",'y')"
   ]
  },
  {
   "cell_type": "code",
   "execution_count": null,
   "id": "b393b5e7",
   "metadata": {},
   "outputs": [],
   "source": []
  },
  {
   "cell_type": "code",
   "execution_count": null,
   "id": "73b59793",
   "metadata": {},
   "outputs": [],
   "source": []
  }
 ],
 "metadata": {
  "kernelspec": {
   "display_name": "Python 3 (ipykernel)",
   "language": "python",
   "name": "python3"
  },
  "language_info": {
   "codemirror_mode": {
    "name": "ipython",
    "version": 3
   },
   "file_extension": ".py",
   "mimetype": "text/x-python",
   "name": "python",
   "nbconvert_exporter": "python",
   "pygments_lexer": "ipython3",
   "version": "3.9.7"
  }
 },
 "nbformat": 4,
 "nbformat_minor": 5
}
