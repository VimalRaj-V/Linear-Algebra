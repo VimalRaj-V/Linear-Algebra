{
 "cells": [
  {
   "cell_type": "markdown",
   "id": "f365e12c",
   "metadata": {},
   "source": [
    "Proves that eigenvectors are orthogonal for a symmetric matrix"
   ]
  },
  {
   "cell_type": "code",
   "execution_count": 189,
   "id": "538dbe8f",
   "metadata": {},
   "outputs": [],
   "source": [
    "import numpy as np"
   ]
  },
  {
   "cell_type": "code",
   "execution_count": 190,
   "id": "f67d7e1a",
   "metadata": {},
   "outputs": [],
   "source": [
    "def mat_mul(A, v):\n",
    "    \"\"\"\n",
    "    This function helps us to multipy two given matirces\n",
    "    \"\"\"\n",
    "    r1,c1 = A.shape\n",
    "    r2, c2 = v.shape\n",
    "    assert(c1==r2), \"The matrix size has to match\"\n",
    "    \n",
    "    # Creates a empty matrix of size r1*c2\n",
    "    res = np.zeros((r1, c2))\n",
    "    \n",
    "    # Iterates over every row and every column of A and v matrices respectively\n",
    "    for i in range(r1):\n",
    "        for j in range(c2):\n",
    "            for k in range(c1):\n",
    "                res[i][j] += A[i][k]*v[k][j]\n",
    "    return(res)  "
   ]
  },
  {
   "cell_type": "code",
   "execution_count": 191,
   "id": "c666bdaf",
   "metadata": {},
   "outputs": [],
   "source": [
    "def det (A):\n",
    "    \"\"\"\n",
    "    Computes the determinant of a 2*2 or 3*3 square matrix\n",
    "    \"\"\"\n",
    "    r, c = A.shape\n",
    "    assert(r == c), \"Matrix has to be square\"\n",
    "    det = 0\n",
    "    if (r == 2):\n",
    "        return(A[0][0]*A[1][1] - A[0][1]*A[1][0])\n",
    "    \n",
    "    for i in range(r):\n",
    "        minor1 = 1\n",
    "        minor2 = 1\n",
    "        for j in range (c):\n",
    "            minor1 *= A[j][(j+i)%r]\n",
    "            minor2 *= A[r-j-1][(j+i)%r]   \n",
    "        det += (minor1-minor2)\n",
    "    return(det)"
   ]
  },
  {
   "cell_type": "code",
   "execution_count": 192,
   "id": "adc71dde",
   "metadata": {},
   "outputs": [],
   "source": [
    "def inv(A):\n",
    "    \"\"\"\n",
    "    Calculates the Inverse of a matrix if it exists\n",
    "    \"\"\"\n",
    "    r, c = A.shape\n",
    "    assert (r==c), \"Matrix has to be square\"\n",
    "    assert(det(A) != 0), \"Matrix has to be non-singular\"\n",
    "    \n",
    "    # Creating an augumented matrix\n",
    "    augumentedMatrix = np.zeros((r, c*2))\n",
    "    \n",
    "    for i in range(r):\n",
    "        for j in range(c):\n",
    "            augumentedMatrix[i][j] = A[i][j]\n",
    "        augumentedMatrix[i][j+i+1] = 1\n",
    "        \n",
    "    # Changes the row which haves a diagonal element zero\n",
    "    for i in range(r):\n",
    "        if augumentedMatrix[i][i] == 0:\n",
    "            augumentedMatrix[i], augumentedMatrix[(i + 1) % r] = np.copy(augumentedMatrix[(i + 1) % r]), np.copy(augumentedMatrix[i])\n",
    "    \n",
    "    # Applying Gauss Jordan method to find the inverse\n",
    "    for i in range(r):\n",
    "        k = i\n",
    "        k_count = 0\n",
    "        while (k_count<r):\n",
    "            if (i==k and augumentedMatrix[i][i] != 0):\n",
    "                div = augumentedMatrix[i][i]\n",
    "                for j in range(2*c):\n",
    "                    augumentedMatrix[i][j] = augumentedMatrix[i][j]/div\n",
    "            else:\n",
    "                mul = augumentedMatrix[k][i]\n",
    "                for j in range(2*c):\n",
    "                    augumentedMatrix[k][j] -= (mul*augumentedMatrix[i][j]) \n",
    "            k_count += 1\n",
    "            k = (k+1)%r\n",
    "    \n",
    "    # Seperates the inverse from the augumented matrix\n",
    "    res = augumentedMatrix[:, c:]\n",
    "    return(res)"
   ]
  },
  {
   "cell_type": "code",
   "execution_count": 193,
   "id": "46fa95fb",
   "metadata": {},
   "outputs": [],
   "source": [
    "A = np.array([[6, -2, -1],\n",
    "             [-2, 6, -1],\n",
    "             [-1, -1, 5]])\n",
    "dim = len(A)\n",
    "eig_val, eig_vec = np.linalg.eig(A)\n",
    "\n",
    "# Converts the eigen vector into an unit vector\n",
    "nor = [0]*dim\n",
    "for i in range(dim):\n",
    "    for j in range(dim):\n",
    "        nor[j] += (eig_vec[i][j]**2)\n",
    "\n",
    "P = np.zeros((dim, dim))\n",
    "for i in range(dim):\n",
    "    for j in range(dim):\n",
    "        P[i][j] = eig_vec[i][j]/(nor[j]**0.5)\n",
    "        \n",
    "# Computes a matrix D with diagonal values as eigen values\n",
    "D = np.zeros((dim, dim))\n",
    "for i in range(dim):\n",
    "    D[i][i] = eig_val[i]\n",
    "\n",
    "# Computes the P transpose\n",
    "P_tran = np.zeros((dim, dim))\n",
    "for i in range(dim):\n",
    "    for j in range(dim):\n",
    "        P_tran[i][j] = P[j][i]\n",
    "        \n",
    "one = mat_mul(P, mat_mul(D, P_tran))   # PDP^T\n",
    "\n",
    "P_inv = inv(P)\n",
    "two = mat_mul(P, mat_mul(D, P_inv))   # PDP^-1"
   ]
  },
  {
   "cell_type": "code",
   "execution_count": 194,
   "id": "e2f7ee0f",
   "metadata": {},
   "outputs": [
    {
     "data": {
      "text/plain": [
       "array([[ 6, -2, -1],\n",
       "       [-2,  6, -1],\n",
       "       [-1, -1,  5]])"
      ]
     },
     "execution_count": 194,
     "metadata": {},
     "output_type": "execute_result"
    }
   ],
   "source": [
    "A"
   ]
  },
  {
   "cell_type": "code",
   "execution_count": 195,
   "id": "6f62d820",
   "metadata": {},
   "outputs": [
    {
     "data": {
      "text/plain": [
       "array([[ 6., -2., -1.],\n",
       "       [-2.,  6., -1.],\n",
       "       [-1., -1.,  5.]])"
      ]
     },
     "execution_count": 195,
     "metadata": {},
     "output_type": "execute_result"
    }
   ],
   "source": [
    "one"
   ]
  },
  {
   "cell_type": "code",
   "execution_count": 196,
   "id": "d62a8e0f",
   "metadata": {},
   "outputs": [
    {
     "data": {
      "text/plain": [
       "array([[ 6., -2., -1.],\n",
       "       [-2.,  6., -1.],\n",
       "       [-1., -1.,  5.]])"
      ]
     },
     "execution_count": 196,
     "metadata": {},
     "output_type": "execute_result"
    }
   ],
   "source": [
    "two"
   ]
  },
  {
   "cell_type": "markdown",
   "id": "65b9bc88",
   "metadata": {},
   "source": [
    "Thus, A = PDP^T = PDP^-1.\n",
    "i.e., P is a orthogonal matrix\n",
    "=> Eigen vectors are orthogonal"
   ]
  },
  {
   "cell_type": "code",
   "execution_count": null,
   "id": "b40bf40e",
   "metadata": {},
   "outputs": [],
   "source": []
  }
 ],
 "metadata": {
  "kernelspec": {
   "display_name": "Python 3 (ipykernel)",
   "language": "python",
   "name": "python3"
  },
  "language_info": {
   "codemirror_mode": {
    "name": "ipython",
    "version": 3
   },
   "file_extension": ".py",
   "mimetype": "text/x-python",
   "name": "python",
   "nbconvert_exporter": "python",
   "pygments_lexer": "ipython3",
   "version": "3.9.7"
  }
 },
 "nbformat": 4,
 "nbformat_minor": 5
}
